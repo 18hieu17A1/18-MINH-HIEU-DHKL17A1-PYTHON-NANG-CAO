{
 "cells": [
  {
   "cell_type": "code",
   "execution_count": 1,
   "metadata": {},
   "outputs": [],
   "source": [
    "import numpy as np"
   ]
  },
  {
   "cell_type": "code",
   "execution_count": 4,
   "metadata": {},
   "outputs": [
    {
     "name": "stdout",
     "output_type": "stream",
     "text": [
      "Các phần tử trong arr:  [0 1 2 3 4 5 6 7 8 9]\n",
      "Kiểu dữ liệu của arr:  int32\n",
      "Kích thước của arr:  (10,)\n"
     ]
    }
   ],
   "source": [
    "#1. Tạo numpy array arr có giá trị từ 0-9\n",
    "arr = np.arange(10)\n",
    "\n",
    "#Hiển thị các phần tử có trong arr, xem kiểu dữ liệu và kích thước của arr\n",
    "print(\"Các phần tử trong arr: \", arr)\n",
    "print(\"Kiểu dữ liệu của arr: \", arr.dtype)\n",
    "print(\"Kích thước của arr: \", arr.shape)\n"
   ]
  },
  {
   "cell_type": "code",
   "execution_count": 5,
   "metadata": {},
   "outputs": [
    {
     "name": "stdout",
     "output_type": "stream",
     "text": [
      "Các phần tử lẻ trong arr:  [1 3 5 7 9]\n",
      "Các phần tử chẵn trong arr:  [0 2 4 6 8]\n"
     ]
    }
   ],
   "source": [
    "#2. tạo arr_odd và arr_even\n",
    "arr_odd = arr[arr % 2 !=0] #Phần tử lẻ\n",
    "arr_even = arr[arr%2 == 0] #Phần tử chẵn\n",
    "\n",
    "print(\"Các phần tử lẻ trong arr: \", arr_odd)\n",
    "print(\"Các phần tử chẵn trong arr: \", arr_even)"
   ]
  },
  {
   "cell_type": "code",
   "execution_count": 6,
   "metadata": {},
   "outputs": [
    {
     "name": "stdout",
     "output_type": "stream",
     "text": [
      "arr_update_1 với các phần tử chẵn giữ nguyên, các phần tử lẻ thay bằng 100:  [  0 100   2 100   4 100   6 100   8 100]\n"
     ]
    }
   ],
   "source": [
    "#3.tạo arr_update_1\n",
    "arr_update_1 = np.where(arr%2 == 0, arr, 100)\n",
    "\n",
    "print(\"arr_update_1 với các phần tử chẵn giữ nguyên, các phần tử lẻ thay bằng 100: \", arr_update_1)"
   ]
  }
 ],
 "metadata": {
  "kernelspec": {
   "display_name": "Python 3",
   "language": "python",
   "name": "python3"
  },
  "language_info": {
   "codemirror_mode": {
    "name": "ipython",
    "version": 3
   },
   "file_extension": ".py",
   "mimetype": "text/x-python",
   "name": "python",
   "nbconvert_exporter": "python",
   "pygments_lexer": "ipython3",
   "version": "3.12.0"
  }
 },
 "nbformat": 4,
 "nbformat_minor": 2
}
