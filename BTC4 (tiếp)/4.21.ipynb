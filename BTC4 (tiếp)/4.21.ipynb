{
 "cells": [
  {
   "cell_type": "code",
   "execution_count": 1,
   "metadata": {},
   "outputs": [
    {
     "name": "stdout",
     "output_type": "stream",
     "text": [
      "DataFrame Type: <class 'pandas.core.frame.DataFrame'>\n",
      "Shape: (193, 6)\n",
      "Columns: Index(['country', 'beer_servings', 'spirit_servings', 'wine_servings',\n",
      "       'total_litres_of_pure_alcohol', 'continent'],\n",
      "      dtype='object')\n",
      "5 dòng đầu tiên (head):\n",
      "       country  beer_servings  spirit_servings  wine_servings  \\\n",
      "0  Afghanistan              0                0              0   \n",
      "1      Albania             89              132             54   \n",
      "2      Algeria             25                0             14   \n",
      "3      Andorra            245              138            312   \n",
      "4       Angola            217               57             45   \n",
      "\n",
      "   total_litres_of_pure_alcohol continent  \n",
      "0                           0.0        AS  \n",
      "1                           4.9        EU  \n",
      "2                           0.7        AF  \n",
      "3                          12.4        EU  \n",
      "4                           5.9        AF  \n",
      "5 dòng cuối cùng (tail):\n",
      "       country  beer_servings  spirit_servings  wine_servings  \\\n",
      "188  Venezuela            333              100              3   \n",
      "189    Vietnam            111                2              1   \n",
      "190      Yemen              6                0              0   \n",
      "191     Zambia             32               19              4   \n",
      "192   Zimbabwe             64               18              4   \n",
      "\n",
      "     total_litres_of_pure_alcohol continent  \n",
      "188                           7.7        SA  \n",
      "189                           2.0        AS  \n",
      "190                           0.1        AS  \n",
      "191                           2.5        AF  \n",
      "192                           4.7        AF  \n"
     ]
    }
   ],
   "source": [
    "import pandas as pd\n",
    "\n",
    "# Đọc dữ liệu từ file CSV, sử dụng cột đầu tiên làm index\n",
    "drink = pd.read_csv('drinks.csv', index_col=0)\n",
    "\n",
    "# In type, shape, tên các cột, 5 dòng đầu và 5 dòng cuối\n",
    "print(\"DataFrame Type:\", type(drink))\n",
    "print(\"Shape:\", drink.shape)\n",
    "print(\"Columns:\", drink.columns)\n",
    "print(\"5 dòng đầu tiên (head):\")\n",
    "print(drink.head())\n",
    "print(\"5 dòng cuối cùng (tail):\")\n",
    "print(drink.tail())\n"
   ]
  },
  {
   "cell_type": "code",
   "execution_count": 2,
   "metadata": {},
   "outputs": [
    {
     "name": "stdout",
     "output_type": "stream",
     "text": [
      "continent\n",
      "AF     61.471698\n",
      "AS     37.045455\n",
      "EU    193.777778\n",
      "OC     89.687500\n",
      "SA    175.083333\n",
      "Name: beer_servings, dtype: float64\n"
     ]
    }
   ],
   "source": [
    "# Giả sử cột 'continent' lưu thông tin châu lục và 'beer_servings' là lượng bia tiêu thụ\n",
    "avg_beer_by_continent = drink.groupby('continent')['beer_servings'].mean()\n",
    "print(avg_beer_by_continent)\n"
   ]
  },
  {
   "cell_type": "code",
   "execution_count": 3,
   "metadata": {},
   "outputs": [
    {
     "name": "stdout",
     "output_type": "stream",
     "text": [
      "           count        mean        std  min   25%    50%     75%    max\n",
      "continent                                                               \n",
      "AF          53.0   16.264151  38.846419  0.0   1.0    2.0   13.00  233.0\n",
      "AS          44.0    9.068182  21.667034  0.0   0.0    1.0    8.00  123.0\n",
      "EU          45.0  142.222222  97.421738  0.0  59.0  128.0  195.00  370.0\n",
      "OC          16.0   35.625000  64.555790  0.0   1.0    8.5   23.25  212.0\n",
      "SA          12.0   62.416667  88.620189  1.0   3.0   12.0   98.50  221.0\n"
     ]
    }
   ],
   "source": [
    "# Giả sử cột 'wine_servings' là lượng rượu vang tiêu thụ\n",
    "wine_description = drink.groupby('continent')['wine_servings'].describe()\n",
    "print(wine_description)\n"
   ]
  },
  {
   "cell_type": "code",
   "execution_count": 4,
   "metadata": {},
   "outputs": [
    {
     "name": "stdout",
     "output_type": "stream",
     "text": [
      "           beer_servings  wine_servings  spirit_servings\n",
      "continent                                               \n",
      "AF             61.471698      16.264151        16.339623\n",
      "AS             37.045455       9.068182        60.840909\n",
      "EU            193.777778     142.222222       132.555556\n",
      "OC             89.687500      35.625000        58.437500\n",
      "SA            175.083333      62.416667       114.750000\n"
     ]
    }
   ],
   "source": [
    "# Tính trung bình cho bia và rượu vang, rượu mạnh\n",
    "avg_consumption_by_continent = drink.groupby('continent')[['beer_servings', 'wine_servings', 'spirit_servings']].mean()\n",
    "print(avg_consumption_by_continent)\n"
   ]
  },
  {
   "cell_type": "code",
   "execution_count": 5,
   "metadata": {},
   "outputs": [
    {
     "name": "stdout",
     "output_type": "stream",
     "text": [
      "           beer_servings  wine_servings  spirit_servings\n",
      "continent                                               \n",
      "AF                  32.0            2.0              3.0\n",
      "AS                  17.5            1.0             16.0\n",
      "EU                 219.0          128.0            122.0\n",
      "OC                  52.5            8.5             37.0\n",
      "SA                 162.5           12.0            108.5\n"
     ]
    }
   ],
   "source": [
    "# Tính trung vị cho bia, rượu vang và rượu mạnh\n",
    "median_consumption_by_continent = drink.groupby('continent')[['beer_servings', 'wine_servings', 'spirit_servings']].median()\n",
    "print(median_consumption_by_continent)\n"
   ]
  },
  {
   "cell_type": "code",
   "execution_count": 6,
   "metadata": {},
   "outputs": [
    {
     "name": "stdout",
     "output_type": "stream",
     "text": [
      "                 mean  max  min\n",
      "continent                      \n",
      "AF          16.339623  152    0\n",
      "AS          60.840909  326    0\n",
      "EU         132.555556  373    0\n",
      "OC          58.437500  254    0\n",
      "SA         114.750000  302   25\n"
     ]
    }
   ],
   "source": [
    "# Tính giá trị trung bình, lớn nhất và nhỏ nhất cho rượu mạnh\n",
    "spirit_stats_by_continent = drink.groupby('continent')['spirit_servings'].agg(['mean', 'max', 'min'])\n",
    "print(spirit_stats_by_continent)\n"
   ]
  },
  {
   "cell_type": "code",
   "execution_count": 7,
   "metadata": {},
   "outputs": [
    {
     "name": "stdout",
     "output_type": "stream",
     "text": [
      "5 quốc gia tiêu thụ bia nhiều nhất:\n",
      "            country  beer_servings  spirit_servings  wine_servings  \\\n",
      "117         Namibia            376                3              1   \n",
      "45   Czech Republic            361              170            134   \n",
      "62            Gabon            347               98             59   \n",
      "65          Germany            346              117            175   \n",
      "98        Lithuania            343              244             56   \n",
      "\n",
      "     total_litres_of_pure_alcohol continent  \n",
      "117                           6.8        AF  \n",
      "45                           11.8        EU  \n",
      "62                            8.9        AF  \n",
      "65                           11.3        EU  \n",
      "98                           12.9        EU  \n",
      "5 quốc gia tiêu thụ bia ít nhất:\n",
      "         country  beer_servings  spirit_servings  wine_servings  \\\n",
      "107   Mauritania              0                0              0   \n",
      "158      Somalia              0                0              0   \n",
      "111       Monaco              0                0              0   \n",
      "128     Pakistan              0                0              0   \n",
      "0    Afghanistan              0                0              0   \n",
      "\n",
      "     total_litres_of_pure_alcohol continent  \n",
      "107                           0.0        AF  \n",
      "158                           0.0        AF  \n",
      "111                           0.0        EU  \n",
      "128                           0.0        AS  \n",
      "0                             0.0        AS  \n"
     ]
    }
   ],
   "source": [
    "# Sắp xếp dữ liệu theo 'beer_servings' (số lượng bia tiêu thụ) tăng dần\n",
    "sorted_drink = drink.sort_values(by='beer_servings', ascending=False)\n",
    "\n",
    "# In 5 quốc gia tiêu thụ bia nhiều nhất và ít nhất\n",
    "print(\"5 quốc gia tiêu thụ bia nhiều nhất:\")\n",
    "print(sorted_drink.head(5))\n",
    "\n",
    "print(\"5 quốc gia tiêu thụ bia ít nhất:\")\n",
    "print(sorted_drink.tail(5))\n"
   ]
  }
 ],
 "metadata": {
  "kernelspec": {
   "display_name": "Python 3",
   "language": "python",
   "name": "python3"
  },
  "language_info": {
   "codemirror_mode": {
    "name": "ipython",
    "version": 3
   },
   "file_extension": ".py",
   "mimetype": "text/x-python",
   "name": "python",
   "nbconvert_exporter": "python",
   "pygments_lexer": "ipython3",
   "version": "3.12.0"
  }
 },
 "nbformat": 4,
 "nbformat_minor": 2
}
