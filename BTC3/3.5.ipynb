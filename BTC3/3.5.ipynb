{
 "cells": [
  {
   "cell_type": "code",
   "execution_count": 6,
   "metadata": {},
   "outputs": [],
   "source": [
    "# Đọc và làm sạch dữ liệu\n",
    "def read_data(file_path):\n",
    "    with open(file_path, 'r', encoding='utf-8-sig') as f:\n",
    "        # Đọc toàn bộ nội dung và loại bỏ ký tự lạ, tách các giá trị\n",
    "        data = f.read()\n",
    "        # Loại bỏ bất kỳ ký tự không hợp lệ, thay thế dấu phẩy thành dấu chấm nếu cần\n",
    "        data = data.replace(',', '.').replace('ï»¿', '').strip()  # Thay ',' thành '.' và loại bỏ BOM nếu có\n",
    "        # Tách các giá trị theo dấu cách và chuyển chúng thành list các số thực\n",
    "        return [float(x) for x in data.split()]\n",
    "\n",
    "# Đọc dữ liệu chiều cao và cân nặng\n",
    "height = read_data('heights_1.txt')\n",
    "weight = read_data('weights_1.txt')\n"
   ]
  },
  {
   "cell_type": "code",
   "execution_count": 11,
   "metadata": {},
   "outputs": [
    {
     "name": "stdout",
     "output_type": "stream",
     "text": [
      "Chiều cao đầu tiên (m): [1.8796 1.8796 1.8288 1.8288 1.8542]\n",
      "Cân nặng đầu tiên (kg): [81.64656  97.52228  95.25432  95.25432  85.275296]\n",
      "BMI đầu tiên: [23.11037639 27.60406069 28.48080465 28.48080465 24.80333518]\n",
      "Cân nặng ở vị trí index 50 là: 90.7184 kg\n",
      "Chiều cao từ index 100 đến 110 là: [1.8542 1.8796 1.8288 1.8542 1.7526 1.8288 1.8542 1.905  1.905  1.8542\n",
      " 1.8288]\n",
      "Các cầu thủ có BMI < 21 có tổng cộng: 11 cầu thủ.\n",
      "Chiều cao trung bình: 1.8717172413793102 m\n",
      "Cân nặng trung bình: 91.33019058916256 kg\n",
      "Chiều cao lớn nhất: 2.1082 m\n",
      "Cân nặng lớn nhất: 131.54167999999999 kg\n",
      "Chiều cao nhỏ nhất: 1.7018 m\n",
      "Cân nặng nhỏ nhất: 68.0388 kg\n"
     ]
    }
   ],
   "source": [
    "import numpy as np\n",
    "\n",
    "# Chuyển list thành numpy array\n",
    "arr_height = np.array(height)\n",
    "arr_weight = np.array(weight)\n",
    "\n",
    "# Hệ số quy đổi từ inch sang mét\n",
    "conversion_factor_height = 0.0254\n",
    "\n",
    "# Chuyển chiều cao từ inch sang mét\n",
    "arr_height_m = arr_height * conversion_factor_height\n",
    "\n",
    "# Hệ số quy đổi từ pound sang kg\n",
    "conversion_factor_weight = 0.453592\n",
    "\n",
    "# Chuyển cân nặng từ pound sang kg\n",
    "arr_weight_kg = arr_weight * conversion_factor_weight\n",
    "\n",
    "# Tính BMI\n",
    "arr_bmi = arr_weight_kg / (arr_height_m ** 2)\n",
    "\n",
    "# Cân nặng ở vị trí index 50\n",
    "weight_at_index_50 = arr_weight_kg[50]\n",
    "\n",
    "# Lấy chiều cao từ index 100 đến 110\n",
    "arr_height_m_100 = arr_height_m[100:111]\n",
    "\n",
    "# Các cầu thủ có BMI < 21\n",
    "players_with_bmi_less_than_21 = arr_bmi[arr_bmi < 21]\n",
    "\n",
    "# Chiều cao trung bình\n",
    "average_height_m = np.mean(arr_height_m)\n",
    "\n",
    "# Cân nặng trung bình\n",
    "average_weight_kg = np.mean(arr_weight_kg)\n",
    "\n",
    "# Chiều cao và cân nặng lớn nhất\n",
    "max_height_m = np.max(arr_height_m)\n",
    "max_weight_kg = np.max(arr_weight_kg)\n",
    "\n",
    "# Chiều cao và cân nặng nhỏ nhất\n",
    "min_height_m = np.min(arr_height_m)\n",
    "min_weight_kg = np.min(arr_weight_kg)\n",
    "\n",
    "# In kết quả\n",
    "print(f\"Chiều cao đầu tiên (m): {arr_height_m[:5]}\")\n",
    "print(f\"Cân nặng đầu tiên (kg): {arr_weight_kg[:5]}\")\n",
    "print(f\"BMI đầu tiên: {arr_bmi[:5]}\")\n",
    "print(f\"Cân nặng ở vị trí index 50 là: {weight_at_index_50} kg\")\n",
    "print(f\"Chiều cao từ index 100 đến 110 là: {arr_height_m_100}\")\n",
    "print(f\"Các cầu thủ có BMI < 21 có tổng cộng: {len(players_with_bmi_less_than_21)} cầu thủ.\")\n",
    "print(f\"Chiều cao trung bình: {average_height_m} m\")\n",
    "print(f\"Cân nặng trung bình: {average_weight_kg} kg\")\n",
    "print(f\"Chiều cao lớn nhất: {max_height_m} m\")\n",
    "print(f\"Cân nặng lớn nhất: {max_weight_kg} kg\")\n",
    "print(f\"Chiều cao nhỏ nhất: {min_height_m} m\")\n",
    "print(f\"Cân nặng nhỏ nhất: {min_weight_kg} kg\")"
   ]
  }
 ],
 "metadata": {
  "kernelspec": {
   "display_name": "Python 3",
   "language": "python",
   "name": "python3"
  },
  "language_info": {
   "codemirror_mode": {
    "name": "ipython",
    "version": 3
   },
   "file_extension": ".py",
   "mimetype": "text/x-python",
   "name": "python",
   "nbconvert_exporter": "python",
   "pygments_lexer": "ipython3",
   "version": "3.12.0"
  }
 },
 "nbformat": 4,
 "nbformat_minor": 2
}
