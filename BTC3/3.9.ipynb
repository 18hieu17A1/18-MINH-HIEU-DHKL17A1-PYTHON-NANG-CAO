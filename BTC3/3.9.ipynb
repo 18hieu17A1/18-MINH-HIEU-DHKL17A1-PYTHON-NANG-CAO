{
 "cells": [
  {
   "cell_type": "code",
   "execution_count": 3,
   "metadata": {},
   "outputs": [
    {
     "name": "stdout",
     "output_type": "stream",
     "text": [
      "5 chiều cao đầu tiên: [191.0, 184.0, 185.0, 180.0, 181.0]\n",
      "5 vị trí đầu tiên: ['GK,M,A,D,M,D,M,M,M,A,M,M,A,A,A,M,D,A,D,M,GK,D,D,M,M,M,M,D,M,GK,D,GK,D,D,M,A,M,D,M,GK,M,GK,A,D,GK,A,GK,GK,GK,GK,A,D,A,D,D,M,D,M,D,D,GK,GK,D,M,M,GK,M,D,M,M,D,D,M,M,D,A,A,M,M,M,A,D,D,A,A,M,M,M,D,D,A,A,D,M,M,M,D,M,M,D,M,A,M,M,GK,M,D,M,M,D,M,M,A,GK,D,M,GK,M,M,M,M,D,D,M,D,M,D,M,M,A,M,GK,A,M,D,M,D,GK,D,D,M,A,GK,M,D,A,D,A,A,M,D,M,A,GK,D,M,GK,A,D,D,D,GK,GK,M,D,GK,D,M,GK,A,D,GK,GK,D,M,GK,D,D,D,M,D,M,D,D,A,D,D,D,M,M,A,D,M,M,D,M,A,A,D,A,GK,M,A,A,D,D,A,D,GK,D,M,D,D,M,M,GK,D,M,GK,GK,D,M,D,D,M,A,D,D,M,A,A,A,A,A,M,D,D,A,M,GK,M,GK,A,A,GK,M,D,M,D,D,M,M,A,A,D,D,D,M,M,GK,D,M,M,D,D,D,M,M,M,D,M,A,A,D,D,M,GK,A,D,D,D,GK,D,M,D,A,A,GK,A,D,M,M,GK,A,A,M,D,A,M,M,M,D,D,D,M,D,A,M,M,M,A,M,M,D,M,D,M,M,A,D,D,M,A,D,D,M,M,M,D,M,D,A,D,D,M,D,A,D,D,GK,M,M,M,GK,M,A,D,D,M,A,GK,M,D,A,M,A,A,A,M,GK,A,A,M,A,D,D,D,A,GK,D,D,D,D,GK,A,GK,D,D,M,GK,D,D,D,A,D,D,GK,D,D,D,GK,D,GK,A,M,A,M,A,D,D,D,GK,GK,GK,M,A,M,D,M,A,GK,M,D,M,M,D,A,GK,M,A,GK,GK,M,A,A,M,GK,GK,D,M,A,D,A,D,D,A,D,M,D,D,M,D,A,GK,D,D,GK,A,D,D,GK,D,A,M,A,A,GK,D,A,D,A,D,GK,D,D,A,A,M,A,GK,M,D,A,D,M,M,D,M,GK,D,M,A,A,M,M,M,GK,GK,D,A,M,GK,D,M,GK,M,M,GK,M,D,A,D,M,M,A,M,GK,A,GK,A,M,GK,GK,D,D,M,M,D,GK,A,M,GK,A,GK,D,D,M,M,M,D,M,M,GK,M,D,M,D,GK,M,A,GK,A,M,M,A,M,M,A,A,A,M,GK,D,D,M,D,GK,D,M,M,M,A,D,A,D,A,M,M,D,M,M,D,D,GK,M,A,GK,A,A,M,D,GK,D,M,M,GK,GK,D,D,M,D,M,M,M,M,GK,M,D,M,D,GK,A,M,D,M,A,A,D,D,D,M,GK,D,A,M,D,A,GK,M,D,M,D,A,A,M,A,D,D,M,A,M,M,A,D,GK,A,M,D,M,A,D,D,D,GK,D,M,GK,M,M,GK,M,M,D,M,D,D,M,D,A,M,D,D,GK,D,M,M,GK,GK,M,D,D,A,GK,D,D,D,GK,A,A,D,A,D,M,D,D,A,M,GK,D,M,D,M,A,A,GK,M,D,A,D,D,M,A,A,D,M,M,D,A,D,M,A,M,D,D,D,A,GK,D,D,M,M,A,M,A,D,M,A,A,GK,A,D,A,M,A,D,D,D,GK,A,D,D,D,A,A,A,M,GK,GK,D,A,GK,D,A,M,M,D,GK,M,A,M,D,M,M,M,D,A,GK,GK,D,M,D,D,D,M,GK,M,D,D,D,A,A,GK,D,D,M,M,D,D,M,M,D,A,M,D,M,M,M,A,GK,D,D,D,A,M,M,A,M,M,D,M,D,M,A,D,D,M,M,M,D,M,M,D,M,M,M,D,D,A,D,A,A,D,D,M,M,A,A,GK,A,GK,M,M,GK,D,GK,A,GK,D,M,GK,M,D,D,D,GK,M,GK,D,D,D,D,GK,A,M,M,D,GK,GK,GK,D,D,M,D,D,GK,D,A,D,M,D,D,D,M,D,M,D,M,D,D,M,M,D,D,A,M,D,M,A,M,D,A,M,D,GK,D,D,A,D,M,D,GK,A,D,A,M,A,A,GK,D,M,D,A,D,A,M,M,D,D,D,A,GK,A,D,M,M,M,D,A,A,D,D,M,D,D,D,GK,D,M,D,D,A,D,M,M,M,M,A,M,M,D,A,M,D,M,M,M,M,M,GK,D,M,A,D,D,M,M,M,A,M,GK,A,A,GK,A,A,GK,M,D,M,D,A,D,D,M,D,M,D,D,M,D,D,A,A,A,M,A,D,D,M,A,GK,D,M,A,D,GK,D,M,M,A,D,M,D,D,D,GK,M,A,A,A,D,GK,M,GK,M,GK,GK,M,M,M,D,GK,D,A,A,A,A,A,D,M,D,D,M,D,A,A,M,D,GK,D,M,A,D,D,A,M,M,D,D,A,D,M,D,A,A,D,M,M,GK,D,A,A,A,D,D,GK,M,M,A,M,M,GK,D,D,D,A,GK,M,D,M,D,GK,M,A,M,D,A,M,GK,D,D,A,M,D,M,GK,M,M,GK,A,M,D,D,A,D,A,D,D,M,M,D,M,GK,D,M,M,D,GK,M,M,GK,D,D,M,M,D,D,A,M,A,M,A,D,D,D,A,D,GK,A,M,D,D,D,GK,M,A,D,GK,M,D,A,GK,GK,A,D,M,A,D,GK,D,D,A,D,D,A,M,M,GK,D,D,M,GK,D,D,D,D,D,D,D,D,A,D,M,A,M,M,M,A,D,D,D,M,D,A,D,A,D,D,D,D,D,M,D,GK,D,M,A,M,GK,M,M,M,D,M,M,M,M,A,D,M,A,GK,M,M,D,D,M,A,A,A,GK,M,D,M,M,D,GK,D,GK,D,M,M,A,D,GK,A,D,A,A,D,A,M,A,M,M,M,D,M,M,D,D,M,D,D,D,A,M,D,M,A,A,GK,GK,M,A,M,D,D,D,GK,A,GK,D,M,D,M,D,A,M,D,M,D,GK,M,D,D,M,D,GK,A,D,D,GK,GK,D,A,A,M,A,D,GK,A,M,GK,GK,D,M,D,M,D,M,M,M,M,A,D,A,D,M,M,M,A,M,GK,M,A,M,M,A,D,GK,M,M,D,D,M,M,M,D,D,M,A,M,D,GK,D,M,D,D,M,A,GK,A,GK,GK,D,M,A,M,D,M,GK,D,M,D,A,D,D,D,GK,D,GK,M,D,A,A,M,M,M,A,GK,M,D,A,A,GK,A,M,M,D,D,D,D,A,D,GK,D,M,A,M,A,M,M,M,M,M,M,A,M,M,D,GK,M,A,GK,A,GK,M,M,M,M,A,A,GK,GK,A,M,M,A,M,D,A,M,M,M,GK,M,M,A,D,GK,D,GK,D,D,D,A,M,M,M,D,A,D,M,M,D,D,A,A,A,A,M,A,GK,M,D,M,M,A,D,M,M,GK,M,A,M,D,M,A,M,M,GK,D,D,GK,D,M,D,D,M,D,D,D,M,M,M,A,M,A,M,D,M,GK,D,A,M,A,M,GK,A,D,D,D,GK,D,A,A,M,M,D,M,A,M,M,M,M,D,A,D,A,M,A,M,M,M,M,M,GK,A,M,D,M,D,A,GK,D,M,A,A,A,A,M,D,GK,A,M,A,GK,D,D,D,D,A,D,M,D,D,A,M,GK,D,M,M,GK,A,M,D,M,M,M,A,A,A,D,M,A,D,M,A,D,A,GK,A,A,GK,GK,M,M,D,M,M,D,M,D,GK,D,M,A,D,M,GK,D,M,GK,D,GK,A,D,M,A,A,M,M,D,D,M,A,D,M,A,D,D,A,M,M,M,M,A,M,D,M,D,GK,GK,A,A,A,A,D,D,A,D,M,M,A,A,D,D,M,GK,A,D,A,GK,GK,A,D,M,A,D,M,M,A,D,M,M,D,D,M,D,GK,M,A,A,D,A,D,D,GK,D,D,GK,D,A,D,D,D,M,D,M,M,GK,A,D,GK,D,M,A,M,M,GK,M,GK,D,D,D,M,A,D,D,D,GK,M,A,D,M,GK,M,D,M,M,A,A,M,D,M,A,M,A,M,D,M,D,GK,M,A,D,A,A,D,M,D,D,M,D,D,M,M,M,M,M,A,D,A,D,M,A,M,M,M,D,M,D,M,M,M,A,D,M,M,M,M,D,D,GK,D,M,D,M,A,D,GK,D,A,A,A,M,M,M,M,M,GK,D,D,A,M,D,D,M,A,A,D,GK,GK,M,D,A,M,GK,GK,GK,D,M,M,A,D,D,M,M,D,A,M,D,M,A,GK,GK,D,GK,M,M,M,M,D,M,D,A,D,M,D,D,GK,A,A,M,D,D,A,M,M,D,A,M,M,M,D,A,M,GK,D,D,A,A,M,A,M,D,D,GK,M,D,M,M,D,D,D,D,D,A,M,M,M,D,M,GK,A,D,D,GK,M,M,A,A,M,M,A,D,A,D,M,GK,M,D,D,M,M,A,M,M,GK,A,A,GK,D,D,M,D,D,D,A,D,GK,M,A,D,D,GK,GK,GK,D,M,GK,M,D,M,M,A,GK,M,D,D,M,GK,A,GK,A,A,M,D,A,M,A,M,D,GK,D,M,A,A,M,M,D,GK,D,D,A,A,A,GK,D,M,D,GK,D,D,D,GK,M,M,D,D,D,A,A,D,A,A,D,D,M,GK,M,M,D,M,A,M,A,GK,D,D,M,M,A,GK,D,GK,D,D,M,A,M,M,M,A,A,D,M,M,M,M,A,D,D,M,M,M,GK,M,A,M,A,D,M,D,D,A,D,M,M,D,M,A,D,M,D,M,M,M,GK,A,D,M,D,D,M,D,A,GK,D,D,A,D,D,GK,M,D,D,M,M,M,M,M,D,A,A,A,A,M,M,A,A,A,D,M,M,A,A,A,D,M,M,M,GK,M,M,M,M,A,M,D,D,D,D,A,M,M,M,A,M,D,M,D,M,M,M,M,M,D,A,M,M,M,D,M,A,D,D,D,D,A,D,A,A,D,A,GK,M,M,A,D,D,M,A,M,A,A,GK,A,D,D,M,A,M,D,A,GK,A,A,D,D,M,A,GK,A,D,M,M,M,M,M,D,D,M,GK,D,M,M,A,D,M,D,GK,A,D,D,A,M,D,D,M,M,A,M,D,M,D,D,D,M,M,M,D,GK,D,D,GK,D,D,A,A,D,A,A,D,M,D,D,D,A,A,GK,M,A,D,M,M,M,D,M,GK,A,GK,M,M,GK,D,D,M,GK,M,M,M,M,GK,D,GK,M,M,M,D,D,D,M,A,M,M,A,M,M,A,M,D,A,D,A,D,D,M,A,GK,A,M,D,M,D,A,M,D,M,M,M,M,GK,M,M,A,A,GK,M,D,M,A,M,M,D,D,M,GK,A,D,A,M,A,D,D,M,A,M,M,D,M,D,D,D,M,A,M,D,A,D,A,D,GK,M,A,D,M,M,M,GK,D,M,A,A,A,D,D,D,D,M,D,M,A,A,GK,D,D,GK,D,A,D,M,A,D,A,A,D,GK,A,D,D,A,A,M,A,M,A,M,D,D,D,M,A,GK,M,M,A,D,D,M,A,A,D,D,M,D,D,A,M,D,M,A,D,D,M,A,D,M,A,D,D,GK,D,M,D,GK,A,M,D,D,M,A,M,M,M,M,M,M,A,M,M,GK,M,M,M,A,A,A,D,M,GK,GK,A,M,D,GK,M,A,M,D,D,M,D,A,D,D,GK,D,M,A,A,D,A,M,D,A,GK,A,D,A,D,GK,GK,GK,M,D,D,M,GK,D,A,D,GK,D,M,M,D,M,M,M,A,D,M,GK,D,D,A,GK,M,M,M,D,GK,D,D,M,D,D,GK,A,GK,D,A,D,M,D,A,A,M,D,D,D,M,GK,M,D,D,GK,D,M,D,A,D,A,M,M,M,D,A,GK,M,M,D,D,A,A,GK,GK,D,A,M,GK,M,M,A,D,M,A,A,GK,M,A,A,D,M,M,D,A,D,A,A,D,M,D,A,D,D,M,M,M,M,M,A,D,D,M,D,D,GK,D,M,D,M,GK,D,M,A,M,M,M,M,D,D,D,A,GK,A,GK,M,D,GK,GK,A,M,A,D,D,D,M,M,D,D,A,M,A,M,M,GK,M,D,A,M,A,M,D,D,D,D,D,D,A,D,GK,M,M,GK,GK,D,D,M,A,D,D,D,GK,GK,M,M,M,GK,D,M,M,M,M,D,D,A,D,A,A,GK,M,D,D,M,M,M,D,A,M,GK,M,GK,GK,D,M,GK,D,M,M,D,M,D,A,D,D,D,A,M,A,D,D,A,D,D,M,M,D,A,D,A,D,A,A,M,A,D,M,M,M,GK,GK,M,M,D,A,D,D,M,A,A,M,D,D,D,D,GK,M,M,D,D,D,D,M,D,D,D,M,D,M,D,A,D,D,A,A,D,D,M,D,GK,D,M,A,M,GK,D,D,M,A,M,A,M,A,A,A,M,D,M,D,M,D,A,M,D,M,A,M,M,D,A,A,A,D,A,M,D,M,A,M,D,A,M,A,GK,D,M,D,M,D,A,M,A,D,M,M,D,GK,A,M,M,M,M,D,D,M,A,M,M,D,M,M,D,GK,D,D,M,M,D,M,A,D,GK,A,M,D,A,A,A,A,GK,M,D,M,M,D,A,M,GK,D,M,A,M,GK,M,A,GK,A,D,A,M,M,D,M,D,M,D,A,M,A,D,D,M,GK,D,D,M,M,A,M,D,A,A,D,GK,GK,D,A,M,D,D,M,GK,D,M,M,D,M,GK,D,A,M,GK,M,M,M,A,M,M,GK,M,D,D,D,D,D,M,D,M,D,A,GK,M,D,D,A,GK,D,M,A,M,D,M,D,GK,M,GK,A,D,D,A,D,A,M,M,M,D,D,D,M,D,D,M,D,D,M,M,GK,M,GK,M,M,D,D,GK,D,M,D,D,A,M,GK,D,M,D,D,D,M,M,M,D,A,A,A,A,GK,D,GK,A,A,D,M,M,A,A,D,M,M,GK,M,D,D,M,D,GK,D,GK,M,D,D,GK,D,A,M,D,GK,D,A,A,A,D,GK,D,D,GK,GK,A,A,M,D,D,D,GK,A,M,M,M,A,A,M,D,D,D,D,M,D,A,A,D,D,D,D,M,M,M,D,D,M,A,M,D,D,A,GK,D,D,GK,M,D,M,A,A,A,A,GK,A,D,D,M,M,A,A,A,D,M,A,A,A,D,GK,D,M,D,M,M,M,A,A,A,D,A,A,D,A,A,M,D,M,A,A,M,A,M,M,D,D,M,D,GK,D,A,D,M,D,A,A,D,M,A,D,M,D,D,M,D,A,D,M,D,M,GK,A,D,GK,A,D,A,A,D,M,M,M,D,M,A,D,M,D,D,M,D,M,D,D,M,D,M,D,M,GK,D,M,M,M,M,M,D,M,GK,M,M,D,M,D,M,D,D,GK,A,D,A,A,M,D,M,M,GK,D,D,GK,A,GK,D,A,A,A,D,GK,A,M,A,A,GK,M,A,D,GK,D,M,A,M,A,A,M,D,M,GK,D,D,M,A,D,M,D,M,M,D,D,A,A,M,D,A,M,D,A,D,D,M,D,M,M,A,M,A,D,M,D,A,D,D,A,A,GK,D,M,A,A,A,M,D,D,GK,M,A,D,GK,M,D,A,M,M,A,D,M,D,A,M,M,D,D,M,M,GK,D,A,M,A,D,M,M,M,M,M,D,M,D,A,A,D,D,A,GK,D,M,GK,M,GK,D,D,A,A,D,D,A,M,D,M,M,M,D,M,D,A,M,M,A,A,M,M,D,D,D,D,D,A,M,M,M,D,GK,GK,A,D,M,M,M,M,M,A,D,M,D,D,A,D,D,M,D,A,D,D,D,A,M,M,D,A,A,D,A,A,D,D,D,M,M,M,D,A,A,A,M,M,D,GK,M,A,A,D,D,D,A,A,A,M,D,A,GK,A,M,A,D,A,D,D,M,A,M,M,M,M,M,A,M,A,A,D,GK,M,GK,D,A,M,GK,D,M,D,M,A,A,D,D,M,D,M,M,D,M,GK,A,D,D,D,A,D,M,D,D,A,M,D,A,D,M,D,A,GK,D,D,A,GK,M,M,GK,A,D,M,M,A,D,M,A,M,D,M,M,A,M,D,D,M,D,A,D,D,D,D,M,M,D,M,A,M,D,M,D,A,A,GK,M,D,D,M,D,M,A,A,D,GK,A,D,D,A,M,M,M,A,M,M,M,M,M,A,D,D,D,D,D,M,D,D,M,D,M,D,D,M,D,M,M,M,GK,D,GK,GK,GK,D,M,A,D,A,D,M,M,A,M,M,D,D,A,GK,GK,M,D,M,GK,M,D,D,D,D,D,GK,M,D,M,A,D,M,A,M,GK,M,M,D,D,D,M,M,D,M,GK,M,D,GK,A,M,A,D,D,D,A,A,GK,A,M,M,D,M,M,D,A,GK,A,D,GK,M,A,M,GK,D,GK,M,A,M,M,A,D,M,D,D,D,D,M,M,M,A,A,M,D,A,M,A,M,M,A,M,A,A,A,M,M,GK,D,D,D,D,D,M,GK,A,D,D,D,M,GK,M,D,GK,A,D,D,M,M,M,M,M,M,A,D,M,A,A,M,M,A,A,M,A,D,A,D,D,M,M,M,D,D,M,GK,A,A,M,A,D,A,D,D,A,M,A,A,M,M,D,M,A,A,D,D,D,A,D,M,A,D,D,D,M,M,D,D,D,GK,M,M,A,A,A,D,M,M,GK,GK,D,D,A,D,D,M,D,A,D,A,M,M,D,M,GK,A,M,D,M,M,M,GK,D,A,D,A,D,M,D,D,A,A,M,D,M,M,GK,M,D,M,D,M,GK,A,M,D,A,D,M,D,M,A,M,M,M,D,GK,GK,D,GK,D,D,A,D,A,M,D,A,M,A,A,GK,M,A,GK,M,M,A,M,A,GK,A,M,A,M,D,A,M,GK,M,M,A,GK,A,D,M,M,A,M,D,D,A,D,D,A,GK,M,M,GK,M,M,A,A,D,A,M,A,M,M,M,M,M,A,M,M,A,D,M,M,D,A,D,M,GK,D,M,A,D,M,D,A,M,D,A,M,D,M,D,A,A,A,M,A,D,M,M,D,M,A,D,M,A,A,D,D,D,M,D,M,M,A,M,M,M,A,A,M,M,GK,M,M,M,M,GK,D,D,M,A,D,GK,D,A,GK,D,A,D,M,M,A,M,A,M,D,A,M,D,M,A,M,D,M,D,D,M,D,D,D,A,D,M,A,A,M,A,M,A,M,D,A,D,A,M,M,M,M,A,M,D,M,D,A,GK,D,GK,M,D,A,D,GK,GK,M,M,A,GK,M,D,M,A,A,D,D,A,D,D,M,M,D,M,A,M,D,GK,A,M,GK,A,D,M,A,M,M,D,A,A,D,D,M,M,D,M,M,A,M,A,D,M,A,M,M,D,M,A,A,M,GK,M,M,D,M,D,D,M,M,D,M,M,M,A,M,A,A,D,M,GK,A,M,GK,A,A,A,A,A,A,D,M,D,D,M,GK,D,A,M,D,M,A,M,D,D,A,A,A,D,M,M,M,M,M,GK,M,A,A,D,D,D,M,A,M,D,A,D,D,A,M,GK,M,GK,D,A,GK,A,A,D,M,D,A,GK,M,M,D,D,D,GK,GK,A,D,D,M,A,D,D,D,M,D,GK,M,M,M,M,GK,D,GK,M,A,A,A,M,M,M,M,A,A,A,GK,D,D,D,M,M,D,GK,D,A,A,M,M,D,M,M,M,A,D,A,D,D,M,D,M,M,D,A,D,GK,A,GK,M,M,D,A,GK,A,A,M,M,M,GK,A,M,M,GK,A,A,D,A,A,M,A,D,A,A,M,A,A,M,M,A,GK,M,M,D,M,M,M,A,M,D,M,M,A,M,M,D,M,GK,GK,M,M,A,M,D,D,D,M,M,M,A,M,D,M,A,A,A,D,GK,M,M,M,A,GK,D,M,A,D,M,M,A,GK,A,D,A,M,D,A,M,A,D,A,D,A,D,A,D,A,D,M,A,M,M,A,D,M,D,M,D,GK,A,M,D,A,A,GK,A,A,A,D,M,D,A,D,A,M,D,M,M,D,M,A,M,D,A,D,A,M,M,M,A,A,M,A,M,D,A,A,M,M,D,D,D,M,A,A,M,D,D,A,D,D,A,D,D,D,A,D,M,D,GK,GK,D,M,D,D,GK,D,D,GK,D,M,D,M,M,A,GK,A,M,A,M,A,A,M,D,D,A,D,M,A,M,M,M,M,D,M,A,A,D,D,GK,D,M,M,D,M,D,D,M,D,M,M,M,D,M,M,A,M,M,D,A,A,A,M,D,M,M,M,D,A,D,M,M,D,GK,D,D,M,D,M,M,D,A,M,D,M,D,D,A,A,GK,M,A,A,D,A,M,D,GK,A,M,M,D,D,A,A,D,D,A,D,D,D,D,A,M,M,M,D,GK,M,A,M,GK,M,GK,D,A,D,A,M,A,D,D,M,M,D,GK,M,M,D,D,D,D,M,M,D,GK,D,A,M,GK,D,D,GK,A,M,A,D,D,D,M,GK,M,D,A,D,M,A,A,M,M,D,M,M,M,M,M,D,A,M,D,A,M,D,D,GK,D,D,A,D,A,GK,D,A,A,M,A,M,M,M,D,A,M,M,A,M,M,M,D,M,M,M,A,A,GK,A,A,D,A,GK,D,A,D,M,D,GK,A,M,D,A,D,M,M,M,M,A,M,D,GK,M,M,D,A,M,A,A,D,A,D,D,D,M,D,A,A,GK,GK,D,D,M,D,M,D,M,M,D,M,D,D,M,D,D,A,D,A,M,M,GK,A,A,M,D,GK,D,D,A,D,M,M,M,D,M,M,A,D,D,A,D,M,A,A,A,M,A,M,M,GK,GK,D,D,M,A,D,D,GK,M,GK,D,D,A,M,M,D,M,M,M,M,D,A,M,M,GK,M,D,A,D,D,D,D,D,A,M,M,D,A,GK,D,M,D,D,D,D,M,M,D,GK,M,D,M,M,A,A,M,M,GK,A,D,M,M,M,A,M,A,A,D,M,D,D,M,D,D,D,M,GK,D,D,GK,A,A,D,A,D,M,D,A,D,D,A,A,M,A,M,M,M,A,A,M,A,A,D,M,M,D,A,A,M,M,M,D,A,M,D,A,D,D,A,D,A,D,A,M,D,D,D,GK,M,M,M,A,M,M,D,M,D,D,A,D,M,M,M,M,M,GK,GK,A,A,GK,GK,D,D,D,A,A,M,GK,A,M,A,M,A,M,A,A,M,A,D,M,M,M,M,A,GK,D,M,M,D,A,A,A,M,D,D,D,M,M,M,D,M,A,D,M,M,M,M,M,D,A,GK,M,M,M,D,A,D,GK,M,D,A,D,D,A,A,D,M,M,D,D,M,D,A,M,M,A,M,D,D,M,D,D,M,A,GK,A,A,D,M,A,A,A,D,GK,M,A,A,M,A,GK,D,A,M,M,A,D,A,D,A,A,M,M,A,A,M,D,D,D,D,GK,A,GK,A,D,D,D,A,D,A,M,M,M,M,M,A,M,D,D,D,A,D,M,GK,M,D,D,M,D,GK,M,A,M,M,D,D,M,A,D,A,M,GK,M,D,A,D,A,D,M,GK,D,M,A,A,A,A,D,A,D,D,D,D,GK,D,GK,D,D,A,A,A,GK,D,M,GK,M,M,GK,D,A,A,D,M,M,M,A,D,M,D,M,A,D,M,D,A,GK,D,M,D,GK,D,M,GK,M,D,A,A,D,A,D,A,D,A,D,M,M,D,M,A,D,M,D,D,M,A,A,M,A,M,M,A,GK,GK,M,GK,D,D,A,M,D,GK,D,GK,D,A,M,A,GK,D,GK,A,M,M,M,D,M,M,M,GK,D,D,M,M,D,D,A,M,M,M,A,GK,D,A,M,M,GK,A,A,M,A,M,M,M,M,M,M,GK,M,M,D,M,M,D,D,GK,M,D,GK,D,M,M,A,D,M,M,D,D,D,M,M,M,A,D,A,GK,M,A,M,D,M,M,D,M,M,M,M,D,M,D,M,A,GK,A,A,D,D,D,A,M,D,D,M,M,M,M,M,D,D,GK,GK,D,M,D,A,D,D,M,D,M,M,A,A,D,D,D,M,D,D,A,D,M,A,A,D,D,A,A,D,GK,M,M,A,A,M,A,A,M,GK,M,D,A,A,A,M,M,M,D,M,A,M,A,A,M,D,A,GK,M,D,A,D,D,M,M,A,D,M,D,A,M,M,M,A,M,M,M,M,A,A,M,A,A,D,D,GK,A,M,A,D,A,M,GK,D,M,M,D,M,D,D,A,M,A,GK,A,A,D,M,D,A,D,M,D,M,A,GK,M,M,M,M,A,M,M,D,M,M,D,M,M,A,M,M,M,M,D,M,M,D,A,A,D,D,M,M,M,M,GK,GK,A,M,M,A,M,M,M,D,M,D,M,M,A,M,GK,A,A,A,GK,M,A,M,D,M,M,A,M,M,M,M,M,M,M,M,M,GK,D,M,M,D,GK,GK,D,M,A,A,M,A,M,M,M,A,GK,M,M,A,D,M,M,M,D,M,A,M,D,M,A,A,A,D,D,D,D,A,D,M,D,M,D,A,M,D,A,D,A,GK,A,D,M,A,M,D,M,D,M,M,D,A,M,A,D,M,D,D,A,GK,A,A,M,M,M,M,A,M,A,A,D,M,GK,M,D,A,M,A,M,GK,A,M,D,M,D,A,A,D,M,A,M,M,A,M,A,M,M,A,D,D,D,GK,D,A,D,D,M,D,A,D,D,D,M,M,A,D,M,D,A,D,M,M,D,D,M,M,D,GK,D,D,D,M,D,A,D,A,D,M,M,GK,A,A,M,D,GK,D,M,D,M,A,GK,GK,M,M,A,M,M,A,M,GK,D,D,M,M,D,M,A,M,GK,D,D,D,A,A,GK,D,GK,D,D,GK,D,A,A,M,D,A,D,D,M,D,A,A,M,M,A,D,M,M,A,D,M,M,A,A,M,M,A,D,M,M,D,M,D,GK,A,M,A,A,D,A,M,M,M,D,D,D,M,D,A,M,GK,M,A,GK,M,M,M,A,M,GK,D,A,D,D,D,D,D,M,M,M,GK,A,D,A,M,A,A,M,A,D,M,M,A,M,A,D,M,D,A,D,M,M,M,A,D,A,D,A,M,M,M,A,M,M,A,D,M,D,D,M,M,D,M,A,D,M,A,M,GK,D,M,A,GK,M,A,A,D,M,A,D,A,GK,D,D,A,M,A,D,D,D,A,M,D,GK,A,A,M,D,D,GK,D,M,M,D,M,A,A,M,M,A,D,M,M,M,D,M,D,M,M,A,A,D,A,A,A,M,M,A,M,M,GK,M,D,D,M,A,M,M,M,A,A,A,A,D,D,A,D,D,M,D,GK,GK,M,D,D,A,D,M,GK,A,M,M,A,M,A,A,D,A,D,A,D,D,D,D,D,M,GK,M,A,M,M,M,D,M,M,A,M,D,D,D,M,D,M,M,D,GK,GK,D,M,M,M,D,M,M,D,GK,A,GK,D,M,A,M,M,M,A,A,A,M,M,A,D,A,A,D,M,D,D,M,A,D,A,D,M,A,A,M,A,A,M,D,M,A,M,M,M,A,D,A,A,A,D,D,M,M,M,D,D,M,A,M,M,A,M,D,D,A,M,A,M,D,D,M,M,GK,D,M,D,M,D,D,D,A,A,M,M,M,A,D,A,D,M,D,M,A,A,D,M,A,A,D,A,GK,D,M,M,M,A,M,A,A,GK,M,D,A,A,A,GK,GK,M,M,D,D,M,M,D,GK,M,GK,M,M,A,M,A,M,D,M,M,D,A,GK,D,GK,M,D,A,M,D,D,D,A,D,M,M,M,A,M,A,M,D,M,A,A,D,M,M,M,M,A,D,M,A,D,D,A,D,M,M,D,M,A,M,M,A,A,M,A,GK,M,GK,A,A,A,M,A,GK,M,A,D,M,D,M,D,A,A,D,M,M,D,D,D,D,M,M,A,D,GK,M,M,A,GK,D,A,M,D,D,GK,A,D,D,M,M,A,D,GK,D,M,M,M,A,M,M,A,D,GK,GK,D,D,M,D,M,D,M,GK,A,A,D,A,M,D,D,D,GK,D,A,A,D,D,D,M,A,D,M,A,M,GK,A,M,A,D,D,M,D,D,A,M,M,D,D,D,D,M,M,A,A,D,D,M,GK,A,A,A,M,D,M,D,M,M,M,D,D,A,D,M,M,D,M,M,A,A,A,GK,M,D,D,M,M,D,M,D,D,M,D,A,M,D,M,A,A,GK,D,M,M,A,A,A,GK,A,M,M,M,A,D,M,D,A,A,A,M,A,A,M,GK,A,A,A,M,D,M,D,D,D,A,M,A,GK,M,D,D,D,M,A,GK,M,D,M,M,M,M,GK,D,M,A,D,D,D,A,GK,M,D,M,M,A,A,M,M,D,D,D,GK,GK,M,A,D,A,D,D,M,GK,D,M,A,M,A,M,D,D,M,A,D,M,D,D,M,M,D,M,A,A,D,M,A,M,M,GK,M,M,M,D,GK,D,A,M,M,GK,M,A,A,D,D,D,GK,M,M,A,M,M,M,D,M,A,M,D,D,A,M,GK,D,D,M,D,A,GK,D,A,M,A,D,D,GK,A,D,M,M,A,M,M,D,GK,M,M,D,GK,M,GK,A,D,M,M,A,A,M,A,M,GK,D,D,M,M,M,M,A,D,A,GK,D,D,D,M,GK,D,GK,GK,A,D,GK,GK,A,GK,M,A,M,M,M,M,M,D,GK,M,D,D,A,A,D,D,GK,M,A,M,M,D,M,D,D,A,M,M,M,D,A,D,GK,M,D,M,A,A,D,A,M,A,D,M,A,M,GK,D,A,A,M,A,D,A,A,M,D,M,D,D,M,GK,A,A,D,D,D,M,M,M,A,M,D,A,M,D,M,M,A,D,GK,M,A,D,M,A,D,M,M,D,M,D,A,M,A,M,GK,A,M,M,D,M,M,D,D,A,M,M,M,M,A,M,M,D,A,D,A,M,A,D,GK,A,D,M,GK,D,D,D,A,D,M,M,A,M,A,M,M,D,A,A,D,D,M,D,GK,A,D,A,D,M,D,D,D,GK,D,D,A,GK,D,D,D,A,A,GK,D,D,D,A,A,M,M,D,D,D,GK,A,D,M,D,A,D,M,D,A,D,M,A,A,D,A,M,M,A,D,A,A,M,D,GK,M,A,M,D,D,D,A,D,M,D,A,M,D,D,D,D,M,A,M,M,GK,D,M,GK,A,A,D,M,M,A,D,M,M,M,A,A,M,A,A,D,A,A,D,M,M,D,D,M,M,GK,M,D,D,M,GK,A,D,D,A,A,D,A,M,GK,A,D,M,M,M,GK,A,M,A,A,A,A,M,A,A,M,D,M,M,A,D,D,A,A,M,M,M,M,D,D,A,M,D,A,D,D,D,A,M,M,M,D,M,M,M,M,M,M,A,A,A,D,GK,M,M,M,A,A,M,M,M,A,M,M,GK,M,D,A,M,D,GK,M,GK,M,M,A,M,D,A,M,M,A,M,M,A,M,M,A,D,M,M,D,D,M,D,A,D,A,A,D,A,M,A,M,GK,A,M,M,A,D,D,A,A,A,A,A,D,M,D,M,M,GK,D,D,A,GK,M,D,D,M,D,D,M,D,M,M,M,M,M,M,M,D,M,M,A,M,D,D,D,D,M,A,D,D,D,A,D,A,A,D,D,D,A,D,M,M,D,M,A,D,M,D,A,D,A,D,A,M,GK,D,GK,M,D,M,A,D,A,D,A,M,D,GK,A,A,M,M,M,M,M,M,M,A,D,M,D,D,D,A,A,A,M,M,D,GK,A,A,M,A,A,M,D,M,M,M,M,M,M,A,A,D,A,A,M,M,M,M,M,D,D,A,A,M,D,D,M,A,M,D,M,M,D,D,M,D,M,M,A,A,D,A,A,D,A,A,M,D,M,GK,A,D,D,GK,GK,D,D,M,M,A,A,A,D,M,D,M,D,D,A,A,A,A,D,A,A,M,M,D,A,M,M,M,A,M,M,D,GK,A,M,GK,D,D,M,A,GK,M,M,M,D,M,M,M,M,A,M,GK,M,A,M,M,M,M,A,A,A,M,D,M,D,D,M,M,A,D,M,D,M,A,M,A,D,A,GK,M,M,D,M,A,M,M,M,D,GK,GK,D,M,D,A,M,A,GK,D,D,M,GK,D,D,A,M,D,A,M,M,M,D,M,D,A,M,A,A,M,M,A,M,M,A,GK,D,GK,D,A,D,M,GK,D,M,M,GK,M,M,A,A,M,GK,D,GK,A,D,M,A,D,A,A,A,A,M,A,D,A,A,GK,M,M,D,D,D,A,GK,GK,D,M,D,GK,M,GK,M,D,A,M,D,M,M,A,D,A,A,M,D,A,GK,A,A,M,GK,M,M,A,D,M,M,GK,D,M,M,M,M,A,D,GK,A,M,D,M,A,M,D,D,M,M,A,GK,GK,A,D,M,M,M,M,D,D,D,M,M,D,D,D,GK,D,D,M,D,D,D,M,M,A,A,M,A,GK,D,D,M,M,A,D,GK,A,M,D,A,D,GK,GK,M,D,A,M,D,A,A,M,M,D,D,D,A,GK,A,A,M,M,M,M,D,A,M,A,A,D,D,D,A,M,D,D,D,D,D,A,A,A,M,D,A,A,M,M,D,D,A,M,M,A,A,M,D,D,A,A,GK,A,A,M,A,D,GK,D,M,A,M,A,M,D,M,D,D,GK,M,D,A,M,D,D,M,A,D,M,M,D,D,D,A,D,D,M,M,M,A,GK,GK,M,D,M,A,D,A,GK,M,A,A,A,GK,M,M,M,M,M,D,M,GK,A,A,M,A,A,A,M,D,M,D,A,M,M,GK,M,D,GK,D,D,M,D,A,M,A,M,D,D,GK,D,D,M,D,M,A,M,D,GK,A,M,GK,A,A,A,M,M,GK,M,D,M,D,GK,GK,D,D,M,A,M,D,A,A,D,A,M,D,M,A,A,GK,M,D,M,A,M,A,A,A,D,D,M,M,M,A,A,A,GK,M,A,D,D,M,D,M,A,M,M,A,A,D,D,D,A,D,A,D,D,A,GK,D,M,M,GK,M,M,D,A,A,M,D,M,D,D,D,A,GK,D,GK,M,D,M,A,A,D,M,D,D,A,A,M,M,D,D,D,D,M,M,D,A,M,D,D,M,A,M,M,D,A,M,D,M,D,M,D,D,D,M,A,M,A,A,GK,A,D,M,A,D,GK,D,A,M,M,M,M,M,M,M,M,A,D,A,D,M,M,A,D,D,D,D,D,A,A,A,A,A,M,GK,M,M,D,M,M,M,M,M,M,D,D,M,M,M,D,M,M,A,M,M,M,D,A,M,GK,A,D,A,M,M,D,M,A,M,A,A,M,D,A,A,A,M,A,M,D,M,D,A,D,M,A,D,GK,D,D,A,A,A,M,M,A,M,M,M,A,D,D,A,A,GK,A,D,GK,M,M,D,M,GK,D,GK,D,M,A,M,A,M,A,D,D,D,D,D,GK,A,A,A,D,D,M,M,D,M,GK,M,A,GK,M,M,D,A,A,M,GK,D,A,A,M,A,D,GK,M,GK,M,A,D,A,D,A,A,M,A,A,GK,M,D,D,M,A,A,GK,D,M,M,M,A,A,A,D,GK,A,D,M,A,GK,A,A,GK,D,M,A,A,D,M,D,D,A,M,M,GK,D,D,A,A,M,D,A,A,M,D,M,A,D,D,D,M,M,D,D,M,M,A,D,A,M,D,D,M,M,A,A,D,M,M,D,A,A,M,D,D,D,M,GK,D,A,M,D,A,M,M,A,M,A,GK,A,D,D,M,A,A,A,D,D,A,D,D,M,GK,D,D,M,M,M,M,A,D,M,D,D,M,A,D,M,D,A,A,A,A,M,GK,M,A,A,D,D,M,M,M,A,D,A,GK,D,D,A,M,M,D,A,GK,D,M,M,M,A,M,D,D,M,D,GK,GK,D,D,M,D,M,M,M,M,M,D,M,M,D,M,M,GK,D,GK,A,M,M,D,D,M,M,D,M,D,D,M,D,D,A,GK,A,M,A,D,D,A,M,GK,D,A,D,A,M,D,A,M,GK,M,A,A,GK,M,D,M,A,M,D,M,M,GK,D,M,A,A,A,M,A,D,M,M,A,M,A,M,GK,M,A,D,M,A,M,D,GK,A,A,D,D,D,M,D,A,A,A,M,M,D,A,A,A,M,A,M,A,D,GK,GK,M,D,GK,A,A,M,M,D,D,M,M,GK,D,D,GK,M,M,M,A,GK,A,M,A,M,D,M,M,GK,M,A,GK,D,GK,GK,A,D,A,GK,M,M,A,GK,A,M,M,A,M,D,D,M,M,A,M,M,M,A,A,M,A,D,D,GK,A,D,D,D,D,M,D,M,A,GK,A,D,A,A,A,A,D,GK,D,M,D,M,A,D,A,M,D,GK,A,M,D,D,GK,D,A,M,M,D,M,A,M,M,M,M,M,D,M,A,D,M,D,A,GK,D,A,M,D,D,GK,A,M,M,D,D,M,D,D,D,GK,A,M,M,D,M,D,M,D,A,A,M,D,GK,D,D,A,D,GK,D,GK,M,M,GK,A,D,M,D,D,A,GK,GK,D,A,A,D,D,M,M,D,M,M,D,M,D,M,M,D,D,D,M,D,D,GK,GK,M,GK,D,A,M,D,GK,M,GK,D,M,D,M,D,D,A,D,M,M,M,D,M,M,D,D,A,D,A,A,M,D,A,M,D,D,D,D,M,D,D,A,M,D,M,A,M,D,M,M,M,A,M,D,GK,M,M,A,D,D,D,D,A,D,D,D,M,D,D,D,A,D,M,A,D,M,M,GK,M,A,M,M,M,D,M,M,M,D,A,M,D,M,A,D,D,A,D,M,M,M,GK,M,D,M,A,D,D,M,A,M,A,M,A,D,A,M,M,M,M,D,A,A,M,GK,A,D,D,M,D,M,D,M,D,M,A,M,D,M,M,D,M,D,A,A,D,A,D,GK,D,M,D,M,D,D,D,M,M,M,D,A,D,GK,D,M,D,A,M,GK,D,M,D,M,D,M,GK,GK,D,M,A,D,GK,M,M,D,M,D,GK,GK,D,A,M,GK,A,M,M,M,M,D,GK,D,M,D,M,D,A,A,GK,GK,A,D,A,GK,M,A,A,M,GK,GK,D,M,D,M,A,D,D,M,GK,D,A,M,M,M,M,A,D,GK,GK,D,M,D,M,A,D,A,M,D,M,M,D,A,M,D,M,M,D,A,GK,M,GK,D,D,D,GK,D,M,M,M,D,GK,M,D,A,M,M,A,GK,M,D,D,M,M,D,M,M,GK,A,M,A,A,A,GK,D,D,D,D,GK,D,GK,D,D,GK,M,D,D,M,D,M,GK,A,M,M,A,D,D,D,D,GK,A,D,M,D,D,A,M,M,M,A,GK,M,D,M,D,M,M,GK,D,GK,A,D,GK,M,M,M,M,M,A,M,D,M,D,D,GK,M,D,GK,M,D,D,M,D,GK,A,A,D,D,M,M,M,M,D,A,M,M,D,A,GK,D,D,D,M,GK,D,D,D,M,M,D,M,M,D,D,M,D,M,A,M,M,D,M,D,D,GK,A,M,GK,M,M,D,M,GK,M,D,A,D,M,D,M,A,A,M,M,M,M,D,D,D,A,D,A,D,A,A,D,GK,A,D,A,D,A,A,D,M,M,D,M,A,M,D,M,M,A,A,D,GK,A,M,M,D,M,D,D,D,GK,D,GK,A,M,M,D,A,D,M,D,D,D,A,D,M,M,M,D,GK,M,M,M,M,M,D,D,GK,M,M,A,A,M,A,M,D,M,A,M,D,A,D,D,M,A,M,D,M,M,GK,GK,GK,A,A,M,A,M,A,M,GK,D,GK,M,GK,M,D,D,A,GK,D,M,D,M,A,A,D,D,A,D,M,A,M,M,D,M,M,M,A,M,GK,D,GK,M,D,A,M,D,D,D,A,M,GK,A,A,D,M,A,GK,D,D,A,M,D,M,D,D,D,D,D,A,M,M,M,M,GK,D,A,A,GK,A,M,D,D,D,GK,D,M,GK,M,A,M,GK,M,A,M,A,D,M,D,A,D,A,GK,D,A,M,GK,M,GK,D,GK,D,M,M,D,D,M,M,D,A,A,M,D,M,A,D,D,GK,M,D,A,D,M,GK,D,GK,M,D,D,M,D,A,D,M,D,GK,M,GK,A,M,GK,GK,D,D,A,D,M,GK,D,A,D,A,A,M,A,A,M,D,M,A,GK,D,M,D,M,GK,A,A,GK,A,A,A,D,D,A,GK,M,A,M,M,D,D,M,M,M,D,D,M,M,D,M,M,D,M,D,M,GK,GK,M,M,M,A,A,M,D,A,M,M,GK,M,A,A,A,D,D,M']\n"
     ]
    }
   ],
   "source": [
    "import numpy as np\n",
    "\n",
    "# Đọc dữ liệu từ tệp heights.txt và positions.txt\n",
    "with open('heights.txt', 'r', encoding='utf-8-sig') as f_heights, open('positions.txt', 'r', encoding='utf-8-sig') as f_positions:\n",
    "    # Đọc dữ liệu chiều cao từ tệp heights.txt\n",
    "    heights = f_heights.read().strip().split(',')  # Đọc tất cả dữ liệu và tách theo dấu phẩy\n",
    "    heights = [float(height.strip()) for height in heights]  # Chuyển tất cả phần tử thành float sau khi loại bỏ khoảng trắng\n",
    "\n",
    "    # Đọc dữ liệu vị trí từ tệp positions.txt\n",
    "    positions = [line.strip() for line in f_positions.readlines()]  # Xóa khoảng trắng thừa ở mỗi dòng\n",
    "\n",
    "# Kiểm tra 5 chiều cao và 5 vị trí đầu tiên\n",
    "print(\"5 chiều cao đầu tiên:\", heights[:5])\n",
    "print(\"5 vị trí đầu tiên:\", positions[:5])\n"
   ]
  },
  {
   "cell_type": "code",
   "execution_count": 4,
   "metadata": {},
   "outputs": [
    {
     "name": "stdout",
     "output_type": "stream",
     "text": [
      "Kiểu dữ liệu của np_positions: <U18623\n",
      "Kiểu dữ liệu của np_heights: float64\n"
     ]
    }
   ],
   "source": [
    "# Tạo numpy array np_positions từ list positions\n",
    "np_positions = np.array(positions)\n",
    "\n",
    "# Tạo numpy array np_heights từ list heights\n",
    "np_heights = np.array(heights)\n",
    "\n",
    "# Kiểm tra kiểu dữ liệu của np_positions và np_heights\n",
    "print(f\"Kiểu dữ liệu của np_positions: {np_positions.dtype}\")\n",
    "print(f\"Kiểu dữ liệu của np_heights: {np_heights.dtype}\")\n"
   ]
  },
  {
   "cell_type": "code",
   "execution_count": 11,
   "metadata": {},
   "outputs": [
    {
     "ename": "IndexError",
     "evalue": "boolean index did not match indexed array along dimension 0; dimension is 8847 but corresponding boolean dimension is 1",
     "output_type": "error",
     "traceback": [
      "\u001b[1;31m---------------------------------------------------------------------------\u001b[0m",
      "\u001b[1;31mIndexError\u001b[0m                                Traceback (most recent call last)",
      "\u001b[1;32md:\\Phạm_Minh_Hiếu_K17A1_KHDL\\BT_PYTHON_NC\\BTC3\\3.9.ipynb Cell 3\u001b[0m line \u001b[0;36m2\n\u001b[0;32m      <a href='vscode-notebook-cell:/d%3A/Ph%E1%BA%A1m_Minh_Hi%E1%BA%BFu_K17A1_KHDL/BT_PYTHON_NC/BTC3/3.9.ipynb#W3sZmlsZQ%3D%3D?line=0'>1</a>\u001b[0m \u001b[39m# Lọc các cầu thủ có vị trí GK\u001b[39;00m\n\u001b[1;32m----> <a href='vscode-notebook-cell:/d%3A/Ph%E1%BA%A1m_Minh_Hi%E1%BA%BFu_K17A1_KHDL/BT_PYTHON_NC/BTC3/3.9.ipynb#W3sZmlsZQ%3D%3D?line=1'>2</a>\u001b[0m gk_heights \u001b[39m=\u001b[39m np_heights[np_positions \u001b[39m==\u001b[39;49m \u001b[39m'\u001b[39;49m\u001b[39mGK\u001b[39;49m\u001b[39m'\u001b[39;49m]\n\u001b[0;32m      <a href='vscode-notebook-cell:/d%3A/Ph%E1%BA%A1m_Minh_Hi%E1%BA%BFu_K17A1_KHDL/BT_PYTHON_NC/BTC3/3.9.ipynb#W3sZmlsZQ%3D%3D?line=3'>4</a>\u001b[0m \u001b[39m# Tính chiều cao trung bình của các cầu thủ GK\u001b[39;00m\n\u001b[0;32m      <a href='vscode-notebook-cell:/d%3A/Ph%E1%BA%A1m_Minh_Hi%E1%BA%BFu_K17A1_KHDL/BT_PYTHON_NC/BTC3/3.9.ipynb#W3sZmlsZQ%3D%3D?line=4'>5</a>\u001b[0m avg_gk_height \u001b[39m=\u001b[39m np\u001b[39m.\u001b[39mmean(gk_heights)\n",
      "\u001b[1;31mIndexError\u001b[0m: boolean index did not match indexed array along dimension 0; dimension is 8847 but corresponding boolean dimension is 1"
     ]
    }
   ],
   "source": [
    "# Lọc các cầu thủ có vị trí GK\n",
    "gk_heights = np_heights[np_positions == 'GK']\n",
    "\n",
    "# Tính chiều cao trung bình của các cầu thủ GK\n",
    "avg_gk_height = np.mean(gk_heights)\n",
    "\n",
    "print(f\"Chiều cao trung bình của các GK: {avg_gk_height}\")"
   ]
  },
  {
   "cell_type": "code",
   "execution_count": 10,
   "metadata": {},
   "outputs": [
    {
     "ename": "IndexError",
     "evalue": "boolean index did not match indexed array along dimension 0; dimension is 8847 but corresponding boolean dimension is 1",
     "output_type": "error",
     "traceback": [
      "\u001b[1;31m---------------------------------------------------------------------------\u001b[0m",
      "\u001b[1;31mIndexError\u001b[0m                                Traceback (most recent call last)",
      "\u001b[1;32md:\\Phạm_Minh_Hiếu_K17A1_KHDL\\BT_PYTHON_NC\\BTC3\\3.9.ipynb Cell 4\u001b[0m line \u001b[0;36m2\n\u001b[0;32m      <a href='vscode-notebook-cell:/d%3A/Ph%E1%BA%A1m_Minh_Hi%E1%BA%BFu_K17A1_KHDL/BT_PYTHON_NC/BTC3/3.9.ipynb#W4sZmlsZQ%3D%3D?line=0'>1</a>\u001b[0m \u001b[39m# Lọc các cầu thủ có vị trí không phải là GK\u001b[39;00m\n\u001b[1;32m----> <a href='vscode-notebook-cell:/d%3A/Ph%E1%BA%A1m_Minh_Hi%E1%BA%BFu_K17A1_KHDL/BT_PYTHON_NC/BTC3/3.9.ipynb#W4sZmlsZQ%3D%3D?line=1'>2</a>\u001b[0m non_gk_heights \u001b[39m=\u001b[39m np_heights[np_positions \u001b[39m!=\u001b[39;49m \u001b[39m'\u001b[39;49m\u001b[39mGK\u001b[39;49m\u001b[39m'\u001b[39;49m]\n\u001b[0;32m      <a href='vscode-notebook-cell:/d%3A/Ph%E1%BA%A1m_Minh_Hi%E1%BA%BFu_K17A1_KHDL/BT_PYTHON_NC/BTC3/3.9.ipynb#W4sZmlsZQ%3D%3D?line=3'>4</a>\u001b[0m \u001b[39m# Tính chiều cao trung bình của các cầu thủ không phải GK\u001b[39;00m\n\u001b[0;32m      <a href='vscode-notebook-cell:/d%3A/Ph%E1%BA%A1m_Minh_Hi%E1%BA%BFu_K17A1_KHDL/BT_PYTHON_NC/BTC3/3.9.ipynb#W4sZmlsZQ%3D%3D?line=4'>5</a>\u001b[0m avg_non_gk_height \u001b[39m=\u001b[39m np\u001b[39m.\u001b[39mmean(non_gk_heights)\n",
      "\u001b[1;31mIndexError\u001b[0m: boolean index did not match indexed array along dimension 0; dimension is 8847 but corresponding boolean dimension is 1"
     ]
    }
   ],
   "source": [
    "# Lọc các cầu thủ có vị trí không phải là GK\n",
    "non_gk_heights = np_heights[np_positions != 'GK']\n",
    "\n",
    "# Tính chiều cao trung bình của các cầu thủ không phải GK\n",
    "avg_non_gk_height = np.mean(non_gk_heights)\n",
    "\n",
    "print(f\"Chiều cao trung bình của các cầu thủ không phải GK: {avg_non_gk_height}\")\n"
   ]
  },
  {
   "cell_type": "code",
   "execution_count": 8,
   "metadata": {},
   "outputs": [
    {
     "name": "stdout",
     "output_type": "stream",
     "text": [
      "5 cầu thủ đầu tiên:\n",
      "[('GK,M,', 191.)]\n"
     ]
    }
   ],
   "source": [
    "# Định nghĩa cấu trúc của mảng players\n",
    "player_dtype = [('position', 'U5'), ('height', 'float')]\n",
    "\n",
    "# Tạo mảng players với dữ liệu từ positions và heights\n",
    "players = np.array(list(zip(np_positions, np_heights)), dtype=player_dtype)\n",
    "\n",
    "# In ra 5 cầu thủ đầu tiên để kiểm tra\n",
    "print(\"5 cầu thủ đầu tiên:\")\n",
    "print(players[:5])\n"
   ]
  },
  {
   "cell_type": "code",
   "execution_count": 9,
   "metadata": {},
   "outputs": [
    {
     "name": "stdout",
     "output_type": "stream",
     "text": [
      "Cầu thủ có chiều cao cao nhất: ('GK,M,', 191.)\n",
      "Cầu thủ có chiều cao thấp nhất: ('GK,M,', 191.)\n"
     ]
    }
   ],
   "source": [
    "# Sắp xếp mảng players theo chiều cao (theo 'height')\n",
    "sorted_players = np.sort(players, order='height')\n",
    "\n",
    "# In ra cầu thủ có chiều cao cao nhất và thấp nhất\n",
    "highest_player = sorted_players[-1]  # Cầu thủ có chiều cao cao nhất\n",
    "lowest_player = sorted_players[0]   # Cầu thủ có chiều cao thấp nhất\n",
    "\n",
    "print(f\"Cầu thủ có chiều cao cao nhất: {highest_player}\")\n",
    "print(f\"Cầu thủ có chiều cao thấp nhất: {lowest_player}\")\n"
   ]
  }
 ],
 "metadata": {
  "kernelspec": {
   "display_name": "Python 3",
   "language": "python",
   "name": "python3"
  },
  "language_info": {
   "codemirror_mode": {
    "name": "ipython",
    "version": 3
   },
   "file_extension": ".py",
   "mimetype": "text/x-python",
   "name": "python",
   "nbconvert_exporter": "python",
   "pygments_lexer": "ipython3",
   "version": "3.12.0"
  }
 },
 "nbformat": 4,
 "nbformat_minor": 2
}
