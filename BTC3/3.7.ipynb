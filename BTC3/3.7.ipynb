{
 "cells": [
  {
   "cell_type": "code",
   "execution_count": 7,
   "metadata": {},
   "outputs": [
    {
     "name": "stdout",
     "output_type": "stream",
     "text": [
      "5 dòng đầu tiên trong dataframe:\n",
      "    0      1     2      3     4      5     6      7     8      9     ...  \\\n",
      "0  [[74,  180],  [74,  215],  [72,  210],  [72,  210],  [73,  188],  ...   \n",
      "\n",
      "   2020   2021  2022   2023  2024   2025  2026   2027  2028   2029  \n",
      "0  [73,  190],  [74,  180],  [75,  205],  [75,  190],  [73,  195]]  \n",
      "\n",
      "[1 rows x 2030 columns]\n"
     ]
    }
   ],
   "source": [
    "import pandas as pd\n",
    "import numpy as np\n",
    "\n",
    "# Đọc tệp tin baseball_2D.txt sử dụng pandas\n",
    "df = pd.read_csv('baseball_2D.txt', header=None, delim_whitespace=True)\n",
    "\n",
    "# Kiểm tra các dòng đầu tiên trong DataFrame\n",
    "print(\"5 dòng đầu tiên trong dataframe:\")\n",
    "print(df.head())\n",
    "\n",
    "# Chuyển đổi dữ liệu từ DataFrame thành numpy array\n",
    "np_baseball = df.to_numpy()\n"
   ]
  },
  {
   "cell_type": "code",
   "execution_count": 11,
   "metadata": {},
   "outputs": [
    {
     "name": "stdout",
     "output_type": "stream",
     "text": [
      "Kiểu dữ liệu của np_baseball: object\n",
      "Kích thước của np_baseball: (1, 2030)\n",
      "5 giá trị đầu tiên của np_weight: ['180],']\n"
     ]
    },
    {
     "ename": "IndexError",
     "evalue": "index 123 is out of bounds for axis 0 with size 1",
     "output_type": "error",
     "traceback": [
      "\u001b[1;31m---------------------------------------------------------------------------\u001b[0m",
      "\u001b[1;31mIndexError\u001b[0m                                Traceback (most recent call last)",
      "\u001b[1;32md:\\Phạm_Minh_Hiếu_K17A1_KHDL\\BT_PYTHON_NC\\BTC3\\3.7.ipynb Cell 2\u001b[0m line \u001b[0;36m8\n\u001b[0;32m      <a href='vscode-notebook-cell:/d%3A/Ph%E1%BA%A1m_Minh_Hi%E1%BA%BFu_K17A1_KHDL/BT_PYTHON_NC/BTC3/3.7.ipynb#W2sZmlsZQ%3D%3D?line=4'>5</a>\u001b[0m np_weight \u001b[39m=\u001b[39m np_baseball[:, \u001b[39m1\u001b[39m]  \u001b[39m# Cột 2 chứa cân nặng\u001b[39;00m\n\u001b[0;32m      <a href='vscode-notebook-cell:/d%3A/Ph%E1%BA%A1m_Minh_Hi%E1%BA%BFu_K17A1_KHDL/BT_PYTHON_NC/BTC3/3.7.ipynb#W2sZmlsZQ%3D%3D?line=5'>6</a>\u001b[0m \u001b[39mprint\u001b[39m(\u001b[39mf\u001b[39m\u001b[39m\"\u001b[39m\u001b[39m5 giá trị đầu tiên của np_weight: \u001b[39m\u001b[39m{\u001b[39;00mnp_weight[:\u001b[39m5\u001b[39m]\u001b[39m}\u001b[39;00m\u001b[39m\"\u001b[39m)\n\u001b[1;32m----> <a href='vscode-notebook-cell:/d%3A/Ph%E1%BA%A1m_Minh_Hi%E1%BA%BFu_K17A1_KHDL/BT_PYTHON_NC/BTC3/3.7.ipynb#W2sZmlsZQ%3D%3D?line=7'>8</a>\u001b[0m height_124 \u001b[39m=\u001b[39m np_baseball[\u001b[39m123\u001b[39;49m, \u001b[39m0\u001b[39;49m]  \u001b[39m# Cột 1 chứa chiều cao\u001b[39;00m\n\u001b[0;32m      <a href='vscode-notebook-cell:/d%3A/Ph%E1%BA%A1m_Minh_Hi%E1%BA%BFu_K17A1_KHDL/BT_PYTHON_NC/BTC3/3.7.ipynb#W2sZmlsZQ%3D%3D?line=8'>9</a>\u001b[0m \u001b[39mprint\u001b[39m(\u001b[39mf\u001b[39m\u001b[39m\"\u001b[39m\u001b[39mChiều cao của vận động viên thứ 124: \u001b[39m\u001b[39m{\u001b[39;00mheight_124\u001b[39m}\u001b[39;00m\u001b[39m inch\u001b[39m\u001b[39m\"\u001b[39m)\n\u001b[0;32m     <a href='vscode-notebook-cell:/d%3A/Ph%E1%BA%A1m_Minh_Hi%E1%BA%BFu_K17A1_KHDL/BT_PYTHON_NC/BTC3/3.7.ipynb#W2sZmlsZQ%3D%3D?line=10'>11</a>\u001b[0m average_height \u001b[39m=\u001b[39m np\u001b[39m.\u001b[39mmean(np_baseball[:, \u001b[39m0\u001b[39m])  \u001b[39m# Chiều cao là cột 1\u001b[39;00m\n",
      "\u001b[1;31mIndexError\u001b[0m: index 123 is out of bounds for axis 0 with size 1"
     ]
    }
   ],
   "source": [
    "# Kiểm tra kiểu dữ liệu và kích thước của np_baseball\n",
    "print(f\"Kiểu dữ liệu của np_baseball: {np_baseball.dtype}\")\n",
    "print(f\"Kích thước của np_baseball: {np_baseball.shape}\")\n",
    "\n",
    "np_weight = np_baseball[:, 1]  # Cột 2 chứa cân nặng\n",
    "print(f\"5 giá trị đầu tiên của np_weight: {np_weight[:5]}\")\n",
    "\n",
    "height_124 = np_baseball[123, 0]  # Cột 1 chứa chiều cao\n",
    "print(f\"Chiều cao của vận động viên thứ 124: {height_124} inch\")\n",
    "\n",
    "average_height = np.mean(np_baseball[:, 0])  # Chiều cao là cột 1\n",
    "average_weight = np.mean(np_baseball[:, 1])  # Cân nặng là cột 2\n",
    "\n",
    "print(f\"Chiều cao trung bình: {average_height} inch\")\n",
    "print(f\"Cân nặng trung bình: {average_weight} pounds\")\n",
    "\n",
    "correlation = np.corrcoef(np_baseball[:, 0], np_baseball[:, 1])[0, 1]\n",
    "print(f\"Hệ số tương quan giữa chiều cao và cân nặng: {correlation}\")\n"
   ]
  }
 ],
 "metadata": {
  "kernelspec": {
   "display_name": "Python 3",
   "language": "python",
   "name": "python3"
  },
  "language_info": {
   "codemirror_mode": {
    "name": "ipython",
    "version": 3
   },
   "file_extension": ".py",
   "mimetype": "text/x-python",
   "name": "python",
   "nbconvert_exporter": "python",
   "pygments_lexer": "ipython3",
   "version": "3.12.0"
  }
 },
 "nbformat": 4,
 "nbformat_minor": 2
}
