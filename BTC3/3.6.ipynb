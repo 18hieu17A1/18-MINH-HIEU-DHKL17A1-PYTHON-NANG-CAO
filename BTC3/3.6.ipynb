{
 "cells": [
  {
   "cell_type": "code",
   "execution_count": 1,
   "metadata": {},
   "outputs": [],
   "source": [
    "import numpy as np"
   ]
  },
  {
   "cell_type": "code",
   "execution_count": 3,
   "metadata": {},
   "outputs": [
    {
     "name": "stdout",
     "output_type": "stream",
     "text": [
      "arr (3x3 với giá trị True): \n",
      " (array([3, 3, 3]), True)\n"
     ]
    }
   ],
   "source": [
    "#1.Tạo array arr có kích thước 3x3 với các giá trị True\n",
    "arr = np.full(3, 3), True\n",
    "print(\"arr (3x3 với giá trị True): \\n\", arr)"
   ]
  },
  {
   "cell_type": "code",
   "execution_count": 4,
   "metadata": {},
   "outputs": [
    {
     "name": "stdout",
     "output_type": "stream",
     "text": [
      "arr_2D sau khi đổi cột 1 và cột 3:\n",
      " [[0 2 1]\n",
      " [3 5 4]\n",
      " [6 8 7]]\n"
     ]
    }
   ],
   "source": [
    "#2.Tạo array 1 chiều arr_1D và chuyển đổi sang arr_2D, đổi cột 1 và cột 3\n",
    "arr_1D = np.array([0, 1, 2, 3, 4, 5, 6, 7, 8])\n",
    "arr_2D = arr_1D.reshape(3, 3)\n",
    "arr_2D[:, [1, 2]] = arr_2D[:, [2, 1]]  # Chuyển cột 1 sang cột 3 và ngược lại\n",
    "print(\"arr_2D sau khi đổi cột 1 và cột 3:\\n\", arr_2D)"
   ]
  },
  {
   "cell_type": "code",
   "execution_count": 5,
   "metadata": {},
   "outputs": [
    {
     "name": "stdout",
     "output_type": "stream",
     "text": [
      "arr_2D sau khi đổi dòng 1 và dòng 2:\n",
      " [[3 5 4]\n",
      " [0 2 1]\n",
      " [6 8 7]]\n"
     ]
    }
   ],
   "source": [
    "#3. Chuyển dòng 1 sang dòng 2 và ngược lại\n",
    "arr_2D[[0, 1]] = arr_2D[[1, 0]]  # Đổi dòng 1 và dòng 2\n",
    "print(\"arr_2D sau khi đổi dòng 1 và dòng 2:\\n\", arr_2D)\n"
   ]
  },
  {
   "cell_type": "code",
   "execution_count": 6,
   "metadata": {},
   "outputs": [
    {
     "name": "stdout",
     "output_type": "stream",
     "text": [
      "arr_2D sau khi đảo ngược các dòng:\n",
      " [[6 8 7]\n",
      " [0 2 1]\n",
      " [3 5 4]]\n"
     ]
    }
   ],
   "source": [
    "#4. Đảo ngược các dòng của arr_2D\n",
    "arr_2D = arr_2D[::-1]\n",
    "print(\"arr_2D sau khi đảo ngược các dòng:\\n\", arr_2D)"
   ]
  },
  {
   "cell_type": "code",
   "execution_count": 7,
   "metadata": {},
   "outputs": [
    {
     "name": "stdout",
     "output_type": "stream",
     "text": [
      "arr_2D sau khi đảo ngược các cột:\n",
      " [[7 8 6]\n",
      " [1 2 0]\n",
      " [4 5 3]]\n"
     ]
    }
   ],
   "source": [
    "#5. Đảo ngược các cột của arr_2D\n",
    "arr_2D = arr_2D[:, ::-1]\n",
    "print(\"arr_2D sau khi đảo ngược các cột:\\n\", arr_2D)"
   ]
  },
  {
   "cell_type": "code",
   "execution_count": 8,
   "metadata": {},
   "outputs": [
    {
     "name": "stdout",
     "output_type": "stream",
     "text": [
      "Có giá trị rỗng (NaN) trong arr_2D_null: True\n"
     ]
    }
   ],
   "source": [
    "#6. Kiểm tra trong arr_2D_null có giá trị rỗng hay không\n",
    "arr_2D_null = np.array([[1, 2, 3], [np.NaN, 5, 6], [7, np.NaN, 9], [4, 5, 6]])\n",
    "has_nan = np.isnan(arr_2D_null).any()\n",
    "print(\"Có giá trị rỗng (NaN) trong arr_2D_null:\", has_nan)"
   ]
  },
  {
   "cell_type": "code",
   "execution_count": 9,
   "metadata": {},
   "outputs": [
    {
     "name": "stdout",
     "output_type": "stream",
     "text": [
      "arr_2D_null sau khi thay thế giá trị NaN bằng 0:\n",
      " [[1. 2. 3.]\n",
      " [0. 5. 6.]\n",
      " [7. 0. 9.]\n",
      " [4. 5. 6.]]\n"
     ]
    }
   ],
   "source": [
    "#7. Thay thế giá trị null bằng 0\n",
    "arr_2D_null = np.nan_to_num(arr_2D_null, nan=0)\n",
    "print(\"arr_2D_null sau khi thay thế giá trị NaN bằng 0:\\n\", arr_2D_null)"
   ]
  }
 ],
 "metadata": {
  "kernelspec": {
   "display_name": "Python 3",
   "language": "python",
   "name": "python3"
  },
  "language_info": {
   "codemirror_mode": {
    "name": "ipython",
    "version": 3
   },
   "file_extension": ".py",
   "mimetype": "text/x-python",
   "name": "python",
   "nbconvert_exporter": "python",
   "pygments_lexer": "ipython3",
   "version": "3.12.0"
  }
 },
 "nbformat": 4,
 "nbformat_minor": 2
}
